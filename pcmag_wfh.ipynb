{
 "cells": [
  {
   "cell_type": "markdown",
   "metadata": {},
   "source": [
    "# Background"
   ]
  },
  {
   "cell_type": "markdown",
   "metadata": {},
   "source": [
    "PcMag released an article of the [top 60 wfh](https://apple.news/AA6GPTj-UTEiMcpYbRDMKug) locations ([on gDocs](https://docs.google.com/document/d/1kzVOcWb-QCCeZkJyw8WEcWfJkllwU9j4PLBzQekR4to/edit)). This notebook is for visualizing that data in a more intuitive manner."
   ]
  },
  {
   "cell_type": "markdown",
   "metadata": {},
   "source": [
    "## Vision Board"
   ]
  },
  {
   "cell_type": "markdown",
   "metadata": {},
   "source": [
    "1. user opens page. be shown map of USA and CA. cities in our database show as bold dots (like on a real map). at the top are the filter selection bars (like airbnb... select your dates, select weather preference, parks per 100k, internet speed, etc etc. )\n",
    "2. map highlights cities that match the filters by making those dots big bold and blue, and other dots small and gray. \n",
    "3. when user hovers over one of the dots, we show a card [like this one](https://ant.design/components/card/). Title of city at top of card, then image of city, then the data we have on it, then description of the city, and at the bottom of the card a big 'SEARCH ON AIRBNB' button. \n",
    "4. when they click the airbnb button it takes them to the airbnb search page for that city. [Example](https://www.airbnb.com/s/Chattanooga--TN--United-States/homes?tab_id=home_tab&refinement_paths%5B%5D=%2Fhomes&date_picker_type=calendar&query=Chattanooga%2C%20TN%2C%20United%20States&place_id=ChIJheeDikBgYIgRqiiHiR8mcSQ&checkin=2021-02-03&checkout=2021-02-25&adults=2&source=structured_search_input_header&search_type=autocomplete_click)"
   ]
  },
  {
   "cell_type": "markdown",
   "metadata": {},
   "source": [
    "## Example Data"
   ]
  },
  {
   "cell_type": "markdown",
   "metadata": {},
   "source": [
    "1. CHATTANOOGA, TN\n",
    "Lowest cost for gigabit broadband: $60\n",
    "Provider: AT&T Fiber \n",
    "Median home price: $186,500 \n",
    "Median home size: 5.2 rooms \n",
    "Coffee shops per 100K: 27 \n",
    "Parks per 100K: 14 \n",
    "Non-chain restaurants: 74% \n",
    "Workers in arts and education: 8.4% \n",
    "Health care practitioners: 4.5% \n",
    "Workers at home: 4.7% \n",
    "The American South boasts many grand old cities with rich histories, but Chattanooga is number one on our list. It’s also known as Gig City: Chattanooga was the first US city to roll out a citywide gigabit network, and it’s become a major tech hub since then. But it’s also on top thanks to its low cost of living and array of family-friendly attractions. The city is home to the Tennessee Aquarium, the Bluff View Art District, and the Chattanooga Choo Choo, a popular community known for its restaurants and live music.\n",
    "\n",
    "2. BEAR VALLEY SPRINGS, CA\n",
    "Population: 5,389 \n",
    "Lowest cost for gigabit broadband: $60 \n",
    "Provider: Race Communications \n",
    "Median home price: $357,800 \n",
    "Median home size: 6 rooms \n",
    "Coffee shops per 100K: 18 \n",
    "Parks per 100K: 15 \n",
    "Non-chain restaurants: 74% \n",
    "Workers in arts and education: 10.1% \n",
    "Health care practitioners: 7.7% \n",
    "Workers at home: 12.8% \n",
    "If you’re looking to make a mountain retreat your new home, consider Bear Valley Springs, a private, gated community nestled in the Tehachapi Mountains. According to Wikipedia, this town offers pleasantly cooler weather than surrounding places during the summer; you’ll definitely see snow in the winter. You can also take a look at nearby Stallion Springs and Golden Hills for remote-working arrangements. The population is just under 5,400, and many residents are retirees.\n",
    "\n",
    "3. PAWLET, VT\n",
    "Population: 1,344 \n",
    "Lowest cost for gigabit broadband: $70 \n",
    "Provider: Vermont Telephone Company \n",
    "Median home price: $221,500 \n",
    "Median home size: 6 rooms \n",
    "Coffee shops per 100K: 32 \n",
    "Parks per 100K: 22 \n",
    "Non-chain restaurants: 90% \n",
    "Workers in arts and education: 16.4% \n",
    "Health care practitioners: 2.5% \n",
    "Workers at home: 11.1% \n",
    "The gorgeous Taconic Mountains in Vermont are hiding a gem of a country town called Pawlet, which offers incredible mountain views and quiet country living. Its population is just 1,344 people, so you’re certain to get to know your neighbors fast. The town is home to 22 parks and 32 coffee shops, and most of the restaurants are independently owned. Also consider nearby Springfield and Mount Holly, highly rated southern Vermont towns serviced by Vermont Telephone Company (VTel) for broadband connectivity.\n"
   ]
  },
  {
   "cell_type": "markdown",
   "metadata": {},
   "source": [
    "# Import Data"
   ]
  },
  {
   "cell_type": "code",
   "execution_count": 1,
   "metadata": {},
   "outputs": [],
   "source": [
    "import pandas as pd\n",
    "import numpy as np\n",
    "import codecs # to avoid \"ascii codec cant decode byte ...\" error\n",
    "import re # to extract info"
   ]
  },
  {
   "cell_type": "markdown",
   "metadata": {},
   "source": [
    "## As String"
   ]
  },
  {
   "cell_type": "code",
   "execution_count": 2,
   "metadata": {},
   "outputs": [],
   "source": [
    "with codecs.open(\"pcmag_wfh_article.txt\",\"r\",encoding=\"utf-8\") as f:\n",
    "    wfh_str = f.read()"
   ]
  },
  {
   "cell_type": "code",
   "execution_count": 3,
   "metadata": {},
   "outputs": [
    {
     "data": {
      "text/plain": [
       "793"
      ]
     },
     "execution_count": 3,
     "metadata": {},
     "output_type": "execute_result"
    }
   ],
   "source": [
    "len(wfh_str.split(\"\\n\"))"
   ]
  },
  {
   "cell_type": "markdown",
   "metadata": {},
   "source": [
    "## As List"
   ]
  },
  {
   "cell_type": "code",
   "execution_count": 4,
   "metadata": {},
   "outputs": [],
   "source": [
    "import codecs\n",
    "with codecs.open(\"pcmag_wfh_article.txt\", \"r\",encoding='utf-8') as f:\n",
    "    wfh_list = []\n",
    "    for item in f:\n",
    "        wfh_list.append(item)"
   ]
  },
  {
   "cell_type": "code",
   "execution_count": 5,
   "metadata": {},
   "outputs": [
    {
     "data": {
      "text/plain": [
       "793"
      ]
     },
     "execution_count": 5,
     "metadata": {},
     "output_type": "execute_result"
    }
   ],
   "source": [
    "len(wfh_list)"
   ]
  },
  {
   "cell_type": "markdown",
   "metadata": {},
   "source": [
    "# Extract Data"
   ]
  },
  {
   "cell_type": "markdown",
   "metadata": {},
   "source": [
    "Each city has different stats variables, we don't know which city is missing what. Grab info by paragraphs (chunks), and then parse one chunk at a time.\n",
    "\n",
    "Final dataset should look like:\n",
    "\n",
    "| city | population | web_cost | web_provider | median_home_price | median_home_size | coffee_shops_100k | parks_100k | restaurants | arts_edu_workers | health_workers | wfh | description |\n",
    "|------|------------|----------|--------------|-------------------|------------------|-------------------|------------|-------------|------------------|----------------|-----|-------------|\n",
    "|      |            |          |              |                   |                  |                   |            |             |                  |                |     |             |"
   ]
  },
  {
   "cell_type": "code",
   "execution_count": 16,
   "metadata": {},
   "outputs": [],
   "source": [
    "cities = re.findall(\"\\d\\d?\\.\\s.+?(?=\\n)\",wfh_str)"
   ]
  },
  {
   "cell_type": "code",
   "execution_count": 17,
   "metadata": {},
   "outputs": [],
   "source": [
    "# The 00s were descriptions, get rid of these\n",
    "for x in cities:\n",
    "    if '00.' in x:\n",
    "        cities.remove(x)"
   ]
  },
  {
   "cell_type": "code",
   "execution_count": 18,
   "metadata": {},
   "outputs": [],
   "source": [
    "# Create a clean list of just USA cities\n",
    "usa_cities = []\n",
    "for x in cities[3:-10]:\n",
    "    usa_cities.append(x.replace('\\r',''))\n",
    "    \n",
    "# get just the city and states\n",
    "pattern = '\\d\\d?\\. '\n",
    "clean_cities = [re.sub(pattern, '',x) for x in usa_cities]"
   ]
  },
  {
   "cell_type": "code",
   "execution_count": 19,
   "metadata": {},
   "outputs": [
    {
     "data": {
      "text/plain": [
       "['SHALLOTTE, NC',\n",
       " 'KENSINGTON PARK, FL',\n",
       " 'BROOKLYN PARK, MN',\n",
       " 'ARLINGTON, WA',\n",
       " 'BEACHWOOD, NJ']"
      ]
     },
     "execution_count": 19,
     "metadata": {},
     "output_type": "execute_result"
    }
   ],
   "source": [
    "clean_cities[-5:]"
   ]
  },
  {
   "cell_type": "code",
   "execution_count": 20,
   "metadata": {},
   "outputs": [],
   "source": [
    "wfh_data = wfh_list[41:] # cut off intro"
   ]
  },
  {
   "cell_type": "code",
   "execution_count": 21,
   "metadata": {},
   "outputs": [],
   "source": [
    "city_starts = []"
   ]
  },
  {
   "cell_type": "code",
   "execution_count": 22,
   "metadata": {},
   "outputs": [],
   "source": [
    "# Get starting loc of each city in series\n",
    "for i in range(len(clean_cities)):\n",
    "    city = clean_cities[i]\n",
    "    for i, s in enumerate(wfh_data):\n",
    "        if city in s:\n",
    "            city_starts.append(i)"
   ]
  },
  {
   "cell_type": "code",
   "execution_count": 23,
   "metadata": {},
   "outputs": [
    {
     "data": {
      "text/plain": [
       "[0, 12, 25, 38, 51]"
      ]
     },
     "execution_count": 23,
     "metadata": {},
     "output_type": "execute_result"
    }
   ],
   "source": [
    "city_starts[:5]"
   ]
  },
  {
   "cell_type": "code",
   "execution_count": 24,
   "metadata": {},
   "outputs": [],
   "source": [
    "# get range of relevant data for each city\n",
    "location_ranges = {}\n",
    "for i in range(len(city_starts)):\n",
    "    this_ = clean_cities[i] # current city\n",
    "    try:\n",
    "        start_ = city_starts[i] # start of current city's data\n",
    "        end_ = city_starts[i+1] # start of next city's data\n",
    "    except:\n",
    "        start_ = city_starts[i]\n",
    "        end_ = len(wfh_data) # last city\n",
    "    location_ranges[this_] = [start_, end_] # add range to dictionary"
   ]
  },
  {
   "cell_type": "code",
   "execution_count": 25,
   "metadata": {},
   "outputs": [],
   "source": [
    "# store each city's relevant data in dict\n",
    "city_data = {}\n",
    "for k, v in location_ranges.items():\n",
    "    city_data[k] = wfh_data[v[0]:v[1]]\n",
    "city_data['BEACHWOOD, NJ'] = city_data['BEACHWOOD, NJ'][:13] # get rid of canada "
   ]
  },
  {
   "cell_type": "code",
   "execution_count": 26,
   "metadata": {},
   "outputs": [
    {
     "name": "stdout",
     "output_type": "stream",
     "text": [
      "0: 10. EASTPOINTE, MI\n",
      "\n",
      "1: Population: 32,601 \n",
      "\n",
      "2: Lowest cost for gigabit broadband: $60 \n",
      "\n",
      "3: Provider: AT&T Fiber \n",
      "\n",
      "4: Median home price: $104,700 \n",
      "\n",
      "5: Median home size: 5.5 rooms \n",
      "\n",
      "6: Coffee shops per 100K: 19 \n",
      "\n",
      "7: Parks per 100K: 12 \n",
      "\n",
      "8: Non-chain restaurants: 75% \n",
      "\n",
      "9: Workers in arts and education: 3.8% \n",
      "\n",
      "10: Health care practitioners: 2.1% \n",
      "\n",
      "11: Workers at home: 3.6% \n",
      "\n",
      "12: Proudly calling itself the “Gateway to Macomb County,” Eastpointe is a suburb in the Metro Detroit area. It’s close to Warren, Rosewood, and Sterling Heights, which are also great living options. And it’s near outdoor attractions including Lake St. Clair and Metropolitan Beach. Residents can take advantage of 12 parks and 19 coffee shops. Perhaps most enticing are the low living costs, with a median home price of just $104,700; AT&T Fiber provides gigabit broadband internet for just $60 a month.\n",
      "\n"
     ]
    }
   ],
   "source": [
    "# typical entry with no missing data\n",
    "for i, v in enumerate(city_data['EASTPOINTE, MI']):\n",
    "    print(f\"{i}: {v}\")"
   ]
  },
  {
   "cell_type": "code",
   "execution_count": 27,
   "metadata": {},
   "outputs": [],
   "source": [
    "# find max length\n",
    "max_ = 0\n",
    "for k, v in city_data.items():\n",
    "    if max_ < len(v):\n",
    "        max_ = len(v)"
   ]
  },
  {
   "cell_type": "code",
   "execution_count": 28,
   "metadata": {},
   "outputs": [
    {
     "name": "stdout",
     "output_type": "stream",
     "text": [
      "CHATTANOOGA, TN: 12\n",
      "BEMIDJI, MN: 10\n",
      "BROOKLYN PARK, MN: 10\n"
     ]
    }
   ],
   "source": [
    "# find which cities are missing info\n",
    "too_small = []\n",
    "for k,v in city_data.items():\n",
    "    if len(v) < max_:\n",
    "        too_small.append([k,max_ - len(v)]) # list of lists, where sublist has city and the amount that needs to be appended\n",
    "        print(f\"{k}: {len(v)}\")"
   ]
  },
  {
   "cell_type": "code",
   "execution_count": 29,
   "metadata": {},
   "outputs": [],
   "source": [
    "# insert nan values for missing info at appropriate slots\n",
    "city_data['CHATTANOOGA, TN'].insert(1,\"Population: np.nan\")\n",
    "\n",
    "city_data['BEMIDJI, MN'].insert(6,\"Coffee shops per 100K: np.nan\")\n",
    "city_data['BEMIDJI, MN'].insert(7,\"Parks per 100K: np.nan\")\n",
    "city_data['BEMIDJI, MN'].insert(8,\"Non-chain restaurants: np.nan\")\n",
    "\n",
    "city_data['BROOKLYN PARK, MN'].insert(6,\"Coffee shops per 100K: np.nan\")\n",
    "city_data['BROOKLYN PARK, MN'].insert(7,\"Parks per 100K: np.nan\")\n",
    "city_data['BROOKLYN PARK, MN'].insert(8,\"Non-chain restaurants: np.nan\")"
   ]
  },
  {
   "cell_type": "code",
   "execution_count": 30,
   "metadata": {},
   "outputs": [],
   "source": [
    "# Location, name\n",
    "items_ = [[1,'Population'],[2,'Lowest cost for gigabit broadband'],[3,'Provider'],[4,'Median home price'],\n",
    "          [5,'Median home size'],[6,'Coffee shops per 100K'],[7,'Parks per 100K'],[8,'Non-chain restaurants'],\n",
    "          [9,'Workers in arts and education'],[10,'Health care practitioners'],[11,'Workers at home']]"
   ]
  },
  {
   "cell_type": "code",
   "execution_count": 31,
   "metadata": {},
   "outputs": [],
   "source": [
    "# initialize dict\n",
    "df_dict = {'City':[]}\n",
    "\n",
    "for row in items_:\n",
    "    if row[1] not in df_dict.keys():\n",
    "        df_dict[row[1]] = []\n",
    "        \n",
    "df_dict['Description'] = []"
   ]
  },
  {
   "cell_type": "code",
   "execution_count": 32,
   "metadata": {},
   "outputs": [
    {
     "data": {
      "text/plain": [
       "{'City': [],\n",
       " 'Population': [],\n",
       " 'Lowest cost for gigabit broadband': [],\n",
       " 'Provider': [],\n",
       " 'Median home price': [],\n",
       " 'Median home size': [],\n",
       " 'Coffee shops per 100K': [],\n",
       " 'Parks per 100K': [],\n",
       " 'Non-chain restaurants': [],\n",
       " 'Workers in arts and education': [],\n",
       " 'Health care practitioners': [],\n",
       " 'Workers at home': [],\n",
       " 'Description': []}"
      ]
     },
     "execution_count": 32,
     "metadata": {},
     "output_type": "execute_result"
    }
   ],
   "source": [
    "df_dict"
   ]
  },
  {
   "cell_type": "code",
   "execution_count": 33,
   "metadata": {},
   "outputs": [],
   "source": [
    "# add info to dictionary. Info is always in the same order, so if it doesn't exist then its a nan\n",
    "for k,v in city_data.items(): # get key, value\n",
    "    df_dict['City'].append(k) # append city name\n",
    "    \n",
    "    for col_loc in items_: # for each col_loc name in the items_ list\n",
    "        loc = col_loc[0] # the location is first item\n",
    "        str_ = col_loc[1] # col name is second item\n",
    "\n",
    "        if str_ in v[loc]: # if the col name exists at that location\n",
    "            df_dict[str_].append(v[loc]) # append the info\n",
    "        else:\n",
    "            print(\"ERROR ERROR\") # if we get here, something is wrong. Each location should have info.\n",
    "            df_dict[str_].append(np.nan) # otherwise just append nan\n",
    "    \n",
    "    df_dict['Description'].append(v[-1]) # the last item will always be the description"
   ]
  },
  {
   "cell_type": "code",
   "execution_count": 34,
   "metadata": {},
   "outputs": [],
   "source": [
    "df = pd.DataFrame(df_dict)\n",
    "df.columns = ['city',\n",
    "              'population',\n",
    "              'web_cost ($)',\n",
    "              'web_provider',\n",
    "              'median_home_price ($)',\n",
    "              'median_home_size (rooms)',\n",
    "              'coffee_shops_100k',\n",
    "              'parks_100k',\n",
    "              'non_chain_restaurants (%)',\n",
    "              'arts_edu_workers (%)',\n",
    "              'health_workers (%)',\n",
    "              'wfh (%)',\n",
    "              'description']"
   ]
  },
  {
   "cell_type": "code",
   "execution_count": 35,
   "metadata": {},
   "outputs": [
    {
     "data": {
      "text/html": [
       "<div>\n",
       "<style scoped>\n",
       "    .dataframe tbody tr th:only-of-type {\n",
       "        vertical-align: middle;\n",
       "    }\n",
       "\n",
       "    .dataframe tbody tr th {\n",
       "        vertical-align: top;\n",
       "    }\n",
       "\n",
       "    .dataframe thead th {\n",
       "        text-align: right;\n",
       "    }\n",
       "</style>\n",
       "<table border=\"1\" class=\"dataframe\">\n",
       "  <thead>\n",
       "    <tr style=\"text-align: right;\">\n",
       "      <th></th>\n",
       "      <th>city</th>\n",
       "      <th>population</th>\n",
       "      <th>web_cost ($)</th>\n",
       "      <th>web_provider</th>\n",
       "      <th>median_home_price ($)</th>\n",
       "      <th>median_home_size (rooms)</th>\n",
       "      <th>coffee_shops_100k</th>\n",
       "      <th>parks_100k</th>\n",
       "      <th>non_chain_restaurants (%)</th>\n",
       "      <th>arts_edu_workers (%)</th>\n",
       "      <th>health_workers (%)</th>\n",
       "      <th>wfh (%)</th>\n",
       "      <th>description</th>\n",
       "    </tr>\n",
       "  </thead>\n",
       "  <tbody>\n",
       "    <tr>\n",
       "      <th>0</th>\n",
       "      <td>CHATTANOOGA, TN</td>\n",
       "      <td>Population: np.nan</td>\n",
       "      <td>Lowest cost for gigabit broadband: $60 \\r\\n</td>\n",
       "      <td>Provider: AT&amp;T Fiber \\r\\n</td>\n",
       "      <td>Median home price: $186,500 \\r\\n</td>\n",
       "      <td>Median home size: 5.2 rooms \\r\\n</td>\n",
       "      <td>Coffee shops per 100K: 27 \\r\\n</td>\n",
       "      <td>Parks per 100K: 14 \\r\\n</td>\n",
       "      <td>Non-chain restaurants: 74% \\r\\n</td>\n",
       "      <td>Workers in arts and education: 8.4% \\r\\n</td>\n",
       "      <td>Health care practitioners: 4.5% \\r\\n</td>\n",
       "      <td>Workers at home: 4.7% \\r\\n</td>\n",
       "      <td>The American South boasts many grand old citie...</td>\n",
       "    </tr>\n",
       "    <tr>\n",
       "      <th>1</th>\n",
       "      <td>BEAR VALLEY SPRINGS, CA</td>\n",
       "      <td>Population: 5,389 \\r\\n</td>\n",
       "      <td>Lowest cost for gigabit broadband: $60 \\r\\n</td>\n",
       "      <td>Provider: Race Communications \\r\\n</td>\n",
       "      <td>Median home price: $357,800 \\r\\n</td>\n",
       "      <td>Median home size: 6 rooms \\r\\n</td>\n",
       "      <td>Coffee shops per 100K: 18 \\r\\n</td>\n",
       "      <td>Parks per 100K: 15 \\r\\n</td>\n",
       "      <td>Non-chain restaurants: 74% \\r\\n</td>\n",
       "      <td>Workers in arts and education: 10.1% \\r\\n</td>\n",
       "      <td>Health care practitioners: 7.7% \\r\\n</td>\n",
       "      <td>Workers at home: 12.8% \\r\\n</td>\n",
       "      <td>If you’re looking to make a mountain retreat y...</td>\n",
       "    </tr>\n",
       "  </tbody>\n",
       "</table>\n",
       "</div>"
      ],
      "text/plain": [
       "                      city              population  \\\n",
       "0          CHATTANOOGA, TN      Population: np.nan   \n",
       "1  BEAR VALLEY SPRINGS, CA  Population: 5,389 \\r\\n   \n",
       "\n",
       "                                  web_cost ($)  \\\n",
       "0  Lowest cost for gigabit broadband: $60 \\r\\n   \n",
       "1  Lowest cost for gigabit broadband: $60 \\r\\n   \n",
       "\n",
       "                         web_provider             median_home_price ($)  \\\n",
       "0           Provider: AT&T Fiber \\r\\n  Median home price: $186,500 \\r\\n   \n",
       "1  Provider: Race Communications \\r\\n  Median home price: $357,800 \\r\\n   \n",
       "\n",
       "           median_home_size (rooms)               coffee_shops_100k  \\\n",
       "0  Median home size: 5.2 rooms \\r\\n  Coffee shops per 100K: 27 \\r\\n   \n",
       "1    Median home size: 6 rooms \\r\\n  Coffee shops per 100K: 18 \\r\\n   \n",
       "\n",
       "                parks_100k        non_chain_restaurants (%)  \\\n",
       "0  Parks per 100K: 14 \\r\\n  Non-chain restaurants: 74% \\r\\n   \n",
       "1  Parks per 100K: 15 \\r\\n  Non-chain restaurants: 74% \\r\\n   \n",
       "\n",
       "                        arts_edu_workers (%)  \\\n",
       "0   Workers in arts and education: 8.4% \\r\\n   \n",
       "1  Workers in arts and education: 10.1% \\r\\n   \n",
       "\n",
       "                     health_workers (%)                      wfh (%)  \\\n",
       "0  Health care practitioners: 4.5% \\r\\n   Workers at home: 4.7% \\r\\n   \n",
       "1  Health care practitioners: 7.7% \\r\\n  Workers at home: 12.8% \\r\\n   \n",
       "\n",
       "                                         description  \n",
       "0  The American South boasts many grand old citie...  \n",
       "1  If you’re looking to make a mountain retreat y...  "
      ]
     },
     "execution_count": 35,
     "metadata": {},
     "output_type": "execute_result"
    }
   ],
   "source": [
    "df.head(2)"
   ]
  },
  {
   "cell_type": "markdown",
   "metadata": {},
   "source": [
    "# Dataset Cleaning"
   ]
  },
  {
   "cell_type": "markdown",
   "metadata": {},
   "source": [
    "Now that all the information is in a nice dataset, its time to clean it of any extraneous info."
   ]
  },
  {
   "cell_type": "code",
   "execution_count": 36,
   "metadata": {},
   "outputs": [],
   "source": [
    "def num_retainer(my_series, find = 'float'):\n",
    "    '''\n",
    "    Strips a series of everything but the numbers\n",
    "    '''\n",
    "    my_series = my_series.str.replace(',', '')\n",
    "    if find == 'float':\n",
    "        for i,v in my_series.iteritems():\n",
    "            try:\n",
    "                v = v.replace('100K:','')\n",
    "                my_series[i] = re.findall('\\d+?\\.\\d+?', v)[0]\n",
    "            except:\n",
    "                my_series[i] = ''\n",
    "        return my_series\n",
    "    else:\n",
    "        my_series = my_series.str.replace('100K:','')\n",
    "        return my_series.apply(lambda x: re.sub('\\D','',x))"
   ]
  },
  {
   "cell_type": "code",
   "execution_count": 37,
   "metadata": {},
   "outputs": [],
   "source": [
    "# these are floats\n",
    "to_strip_float = ['median_home_size (rooms)',\n",
    "                  'arts_edu_workers (%)',\n",
    "                  'health_workers (%)',\n",
    "                  'wfh (%)']\n",
    "\n",
    "# these only need the numbers\n",
    "to_strip_int = ['population',\n",
    "                'web_cost ($)',\n",
    "                'median_home_price ($)',\n",
    "                'coffee_shops_100k',\n",
    "                'parks_100k',\n",
    "                'non_chain_restaurants (%)']"
   ]
  },
  {
   "cell_type": "code",
   "execution_count": 38,
   "metadata": {},
   "outputs": [],
   "source": [
    "for col in to_strip_float:\n",
    "    df[col] = num_retainer(df[col],find='float')\n",
    "    \n",
    "    \n",
    "for col in to_strip_int:\n",
    "    df[col] = num_retainer(df[col],find='int')"
   ]
  },
  {
   "cell_type": "code",
   "execution_count": 39,
   "metadata": {},
   "outputs": [],
   "source": [
    "df['web_provider'] = df['web_provider'].str.split(':',expand=True)[1] # get rid of \"Provider:\" descriptor\n",
    "df = df.replace('\\r\\s','',regex=True) # remove the white spaces at end of descriptors"
   ]
  },
  {
   "cell_type": "code",
   "execution_count": 40,
   "metadata": {},
   "outputs": [],
   "source": [
    "# replace empty string with nan\n",
    "# source: https://stackoverflow.com/a/36934756\n",
    "df = df.apply(lambda x: x.str.strip() if isinstance(x, str) else x).replace('', np.nan)"
   ]
  },
  {
   "cell_type": "code",
   "execution_count": 41,
   "metadata": {},
   "outputs": [
    {
     "name": "stdout",
     "output_type": "stream",
     "text": [
      "city\n",
      "web_provider\n",
      "description\n"
     ]
    }
   ],
   "source": [
    "# Convert columns to number type, print out the ones that couldnt be converted\n",
    "for col in df.columns:\n",
    "    try:\n",
    "        df[col] = df[col].astype(float)\n",
    "    except:\n",
    "        print(col)"
   ]
  },
  {
   "cell_type": "markdown",
   "metadata": {},
   "source": [
    "`population` and `non_chain_restaurants (%)` both have empty spaces that prevent a simple conversion"
   ]
  },
  {
   "cell_type": "code",
   "execution_count": 42,
   "metadata": {},
   "outputs": [
    {
     "name": "stdout",
     "output_type": "stream",
     "text": [
      "<class 'pandas.core.frame.DataFrame'>\n",
      "RangeIndex: 50 entries, 0 to 49\n",
      "Data columns (total 13 columns):\n",
      " #   Column                     Non-Null Count  Dtype  \n",
      "---  ------                     --------------  -----  \n",
      " 0   city                       50 non-null     object \n",
      " 1   population                 49 non-null     float64\n",
      " 2   web_cost ($)               50 non-null     float64\n",
      " 3   web_provider               50 non-null     object \n",
      " 4   median_home_price ($)      50 non-null     float64\n",
      " 5   median_home_size (rooms)   47 non-null     float64\n",
      " 6   coffee_shops_100k          48 non-null     float64\n",
      " 7   parks_100k                 48 non-null     float64\n",
      " 8   non_chain_restaurants (%)  48 non-null     float64\n",
      " 9   arts_edu_workers (%)       50 non-null     float64\n",
      " 10  health_workers (%)         49 non-null     float64\n",
      " 11  wfh (%)                    49 non-null     float64\n",
      " 12  description                50 non-null     object \n",
      "dtypes: float64(10), object(3)\n",
      "memory usage: 5.2+ KB\n"
     ]
    }
   ],
   "source": [
    "df.info()"
   ]
  },
  {
   "cell_type": "code",
   "execution_count": 45,
   "metadata": {},
   "outputs": [],
   "source": [
    "# split city column into city and state\n",
    "city_df = df['city'].str.split(',',expand=True).reset_index()\n",
    "df = df.reset_index()\n",
    "df = df.merge(city_df,on='index')\n",
    "\n",
    "# rename columns\n",
    "df = df.drop(['index','city'],axis=1)\n",
    "df = df.rename({\n",
    "    0:'city',\n",
    "    1:'state'},axis=1)\n",
    "\n",
    "# format city names\n",
    "df['city'] = df['city'].str.title()\n",
    "\n",
    "# rearrange columns\n",
    "df = df[['city', 'state','population', 'web_cost ($)', 'web_provider', 'median_home_price ($)',\n",
    "       'median_home_size (rooms)', 'coffee_shops_100k', 'parks_100k',\n",
    "       'non_chain_restaurants (%)', 'arts_edu_workers (%)',\n",
    "       'health_workers (%)', 'wfh (%)', 'description']]"
   ]
  },
  {
   "cell_type": "code",
   "execution_count": 46,
   "metadata": {},
   "outputs": [
    {
     "data": {
      "text/plain": [
       "Index(['city', 'state', 'population', 'web_cost ($)', 'web_provider',\n",
       "       'median_home_price ($)', 'median_home_size (rooms)',\n",
       "       'coffee_shops_100k', 'parks_100k', 'non_chain_restaurants (%)',\n",
       "       'arts_edu_workers (%)', 'health_workers (%)', 'wfh (%)', 'description'],\n",
       "      dtype='object')"
      ]
     },
     "execution_count": 46,
     "metadata": {},
     "output_type": "execute_result"
    }
   ],
   "source": [
    "df.columns"
   ]
  },
  {
   "cell_type": "code",
   "execution_count": 47,
   "metadata": {},
   "outputs": [
    {
     "name": "stdout",
     "output_type": "stream",
     "text": [
      "<class 'pandas.core.frame.DataFrame'>\n",
      "Int64Index: 50 entries, 0 to 49\n",
      "Data columns (total 14 columns):\n",
      " #   Column                     Non-Null Count  Dtype  \n",
      "---  ------                     --------------  -----  \n",
      " 0   city                       50 non-null     object \n",
      " 1   state                      50 non-null     object \n",
      " 2   population                 49 non-null     float64\n",
      " 3   web_cost ($)               50 non-null     float64\n",
      " 4   web_provider               50 non-null     object \n",
      " 5   median_home_price ($)      50 non-null     float64\n",
      " 6   median_home_size (rooms)   47 non-null     float64\n",
      " 7   coffee_shops_100k          48 non-null     float64\n",
      " 8   parks_100k                 48 non-null     float64\n",
      " 9   non_chain_restaurants (%)  48 non-null     float64\n",
      " 10  arts_edu_workers (%)       50 non-null     float64\n",
      " 11  health_workers (%)         49 non-null     float64\n",
      " 12  wfh (%)                    49 non-null     float64\n",
      " 13  description                50 non-null     object \n",
      "dtypes: float64(10), object(4)\n",
      "memory usage: 5.9+ KB\n"
     ]
    }
   ],
   "source": [
    "df.info()"
   ]
  },
  {
   "cell_type": "code",
   "execution_count": 48,
   "metadata": {},
   "outputs": [],
   "source": [
    "df.to_csv(\"wfh.csv\", index=False)"
   ]
  },
  {
   "cell_type": "markdown",
   "metadata": {},
   "source": [
    "Now all appropriate columns are floats and the city/state info are separated"
   ]
  },
  {
   "cell_type": "markdown",
   "metadata": {},
   "source": [
    "# EDA"
   ]
  },
  {
   "cell_type": "code",
   "execution_count": 49,
   "metadata": {},
   "outputs": [
    {
     "data": {
      "text/html": [
       "<div>\n",
       "<style scoped>\n",
       "    .dataframe tbody tr th:only-of-type {\n",
       "        vertical-align: middle;\n",
       "    }\n",
       "\n",
       "    .dataframe tbody tr th {\n",
       "        vertical-align: top;\n",
       "    }\n",
       "\n",
       "    .dataframe thead th {\n",
       "        text-align: right;\n",
       "    }\n",
       "</style>\n",
       "<table border=\"1\" class=\"dataframe\">\n",
       "  <thead>\n",
       "    <tr style=\"text-align: right;\">\n",
       "      <th></th>\n",
       "      <th>state</th>\n",
       "      <th>city</th>\n",
       "    </tr>\n",
       "  </thead>\n",
       "  <tbody>\n",
       "    <tr>\n",
       "      <th>0</th>\n",
       "      <td>AL</td>\n",
       "      <td>1</td>\n",
       "    </tr>\n",
       "    <tr>\n",
       "      <th>18</th>\n",
       "      <td>NM</td>\n",
       "      <td>1</td>\n",
       "    </tr>\n",
       "    <tr>\n",
       "      <th>27</th>\n",
       "      <td>WI</td>\n",
       "      <td>1</td>\n",
       "    </tr>\n",
       "    <tr>\n",
       "      <th>13</th>\n",
       "      <td>MO</td>\n",
       "      <td>1</td>\n",
       "    </tr>\n",
       "    <tr>\n",
       "      <th>19</th>\n",
       "      <td>NY</td>\n",
       "      <td>1</td>\n",
       "    </tr>\n",
       "    <tr>\n",
       "      <th>20</th>\n",
       "      <td>OK</td>\n",
       "      <td>1</td>\n",
       "    </tr>\n",
       "    <tr>\n",
       "      <th>16</th>\n",
       "      <td>NE</td>\n",
       "      <td>1</td>\n",
       "    </tr>\n",
       "    <tr>\n",
       "      <th>8</th>\n",
       "      <td>IN</td>\n",
       "      <td>1</td>\n",
       "    </tr>\n",
       "    <tr>\n",
       "      <th>4</th>\n",
       "      <td>DE</td>\n",
       "      <td>1</td>\n",
       "    </tr>\n",
       "    <tr>\n",
       "      <th>26</th>\n",
       "      <td>WA</td>\n",
       "      <td>1</td>\n",
       "    </tr>\n",
       "    <tr>\n",
       "      <th>2</th>\n",
       "      <td>CA</td>\n",
       "      <td>1</td>\n",
       "    </tr>\n",
       "    <tr>\n",
       "      <th>1</th>\n",
       "      <td>AZ</td>\n",
       "      <td>1</td>\n",
       "    </tr>\n",
       "    <tr>\n",
       "      <th>17</th>\n",
       "      <td>NJ</td>\n",
       "      <td>1</td>\n",
       "    </tr>\n",
       "    <tr>\n",
       "      <th>24</th>\n",
       "      <td>UT</td>\n",
       "      <td>2</td>\n",
       "    </tr>\n",
       "    <tr>\n",
       "      <th>22</th>\n",
       "      <td>TN</td>\n",
       "      <td>2</td>\n",
       "    </tr>\n",
       "    <tr>\n",
       "      <th>21</th>\n",
       "      <td>PA</td>\n",
       "      <td>2</td>\n",
       "    </tr>\n",
       "    <tr>\n",
       "      <th>25</th>\n",
       "      <td>VT</td>\n",
       "      <td>2</td>\n",
       "    </tr>\n",
       "    <tr>\n",
       "      <th>23</th>\n",
       "      <td>TX</td>\n",
       "      <td>2</td>\n",
       "    </tr>\n",
       "    <tr>\n",
       "      <th>28</th>\n",
       "      <td>WV</td>\n",
       "      <td>2</td>\n",
       "    </tr>\n",
       "    <tr>\n",
       "      <th>12</th>\n",
       "      <td>MN</td>\n",
       "      <td>2</td>\n",
       "    </tr>\n",
       "    <tr>\n",
       "      <th>10</th>\n",
       "      <td>MD</td>\n",
       "      <td>2</td>\n",
       "    </tr>\n",
       "    <tr>\n",
       "      <th>9</th>\n",
       "      <td>KS</td>\n",
       "      <td>2</td>\n",
       "    </tr>\n",
       "    <tr>\n",
       "      <th>6</th>\n",
       "      <td>GA</td>\n",
       "      <td>2</td>\n",
       "    </tr>\n",
       "    <tr>\n",
       "      <th>3</th>\n",
       "      <td>CO</td>\n",
       "      <td>2</td>\n",
       "    </tr>\n",
       "    <tr>\n",
       "      <th>15</th>\n",
       "      <td>NC</td>\n",
       "      <td>2</td>\n",
       "    </tr>\n",
       "    <tr>\n",
       "      <th>11</th>\n",
       "      <td>MI</td>\n",
       "      <td>3</td>\n",
       "    </tr>\n",
       "    <tr>\n",
       "      <th>7</th>\n",
       "      <td>IL</td>\n",
       "      <td>3</td>\n",
       "    </tr>\n",
       "    <tr>\n",
       "      <th>14</th>\n",
       "      <td>MS</td>\n",
       "      <td>3</td>\n",
       "    </tr>\n",
       "    <tr>\n",
       "      <th>5</th>\n",
       "      <td>FL</td>\n",
       "      <td>4</td>\n",
       "    </tr>\n",
       "  </tbody>\n",
       "</table>\n",
       "</div>"
      ],
      "text/plain": [
       "   state  city\n",
       "0     AL     1\n",
       "18    NM     1\n",
       "27    WI     1\n",
       "13    MO     1\n",
       "19    NY     1\n",
       "20    OK     1\n",
       "16    NE     1\n",
       "8     IN     1\n",
       "4     DE     1\n",
       "26    WA     1\n",
       "2     CA     1\n",
       "1     AZ     1\n",
       "17    NJ     1\n",
       "24    UT     2\n",
       "22    TN     2\n",
       "21    PA     2\n",
       "25    VT     2\n",
       "23    TX     2\n",
       "28    WV     2\n",
       "12    MN     2\n",
       "10    MD     2\n",
       "9     KS     2\n",
       "6     GA     2\n",
       "3     CO     2\n",
       "15    NC     2\n",
       "11    MI     3\n",
       "7     IL     3\n",
       "14    MS     3\n",
       "5     FL     4"
      ]
     },
     "execution_count": 49,
     "metadata": {},
     "output_type": "execute_result"
    }
   ],
   "source": [
    "df.groupby('state').count()['city'].reset_index().sort_values('city')"
   ]
  },
  {
   "cell_type": "code",
   "execution_count": 50,
   "metadata": {},
   "outputs": [
    {
     "data": {
      "text/html": [
       "<div>\n",
       "<style scoped>\n",
       "    .dataframe tbody tr th:only-of-type {\n",
       "        vertical-align: middle;\n",
       "    }\n",
       "\n",
       "    .dataframe tbody tr th {\n",
       "        vertical-align: top;\n",
       "    }\n",
       "\n",
       "    .dataframe thead th {\n",
       "        text-align: right;\n",
       "    }\n",
       "</style>\n",
       "<table border=\"1\" class=\"dataframe\">\n",
       "  <thead>\n",
       "    <tr style=\"text-align: right;\">\n",
       "      <th></th>\n",
       "      <th>population</th>\n",
       "      <th>web_cost ($)</th>\n",
       "      <th>median_home_price ($)</th>\n",
       "      <th>median_home_size (rooms)</th>\n",
       "      <th>coffee_shops_100k</th>\n",
       "      <th>parks_100k</th>\n",
       "      <th>non_chain_restaurants (%)</th>\n",
       "      <th>arts_edu_workers (%)</th>\n",
       "      <th>health_workers (%)</th>\n",
       "      <th>wfh (%)</th>\n",
       "    </tr>\n",
       "  </thead>\n",
       "  <tbody>\n",
       "    <tr>\n",
       "      <th>count</th>\n",
       "      <td>4.900000e+01</td>\n",
       "      <td>50.000000</td>\n",
       "      <td>50.000000</td>\n",
       "      <td>47.000000</td>\n",
       "      <td>48.000000</td>\n",
       "      <td>48.000000</td>\n",
       "      <td>48.000000</td>\n",
       "      <td>50.000000</td>\n",
       "      <td>49.000000</td>\n",
       "      <td>49.000000</td>\n",
       "    </tr>\n",
       "    <tr>\n",
       "      <th>mean</th>\n",
       "      <td>8.923965e+04</td>\n",
       "      <td>68.560000</td>\n",
       "      <td>212382.000000</td>\n",
       "      <td>5.676596</td>\n",
       "      <td>33.895833</td>\n",
       "      <td>18.562500</td>\n",
       "      <td>79.125000</td>\n",
       "      <td>8.264000</td>\n",
       "      <td>3.908163</td>\n",
       "      <td>5.240816</td>\n",
       "    </tr>\n",
       "    <tr>\n",
       "      <th>std</th>\n",
       "      <td>3.110387e+05</td>\n",
       "      <td>11.505385</td>\n",
       "      <td>111426.677072</td>\n",
       "      <td>0.826520</td>\n",
       "      <td>21.279537</td>\n",
       "      <td>10.314019</td>\n",
       "      <td>7.689797</td>\n",
       "      <td>3.119116</td>\n",
       "      <td>2.169470</td>\n",
       "      <td>2.618438</td>\n",
       "    </tr>\n",
       "    <tr>\n",
       "      <th>min</th>\n",
       "      <td>9.500000e+02</td>\n",
       "      <td>50.000000</td>\n",
       "      <td>51200.000000</td>\n",
       "      <td>3.800000</td>\n",
       "      <td>13.000000</td>\n",
       "      <td>2.000000</td>\n",
       "      <td>66.000000</td>\n",
       "      <td>1.500000</td>\n",
       "      <td>0.200000</td>\n",
       "      <td>1.500000</td>\n",
       "    </tr>\n",
       "    <tr>\n",
       "      <th>25%</th>\n",
       "      <td>5.275000e+03</td>\n",
       "      <td>60.000000</td>\n",
       "      <td>112425.000000</td>\n",
       "      <td>5.200000</td>\n",
       "      <td>20.500000</td>\n",
       "      <td>12.000000</td>\n",
       "      <td>73.750000</td>\n",
       "      <td>6.225000</td>\n",
       "      <td>2.200000</td>\n",
       "      <td>3.400000</td>\n",
       "    </tr>\n",
       "    <tr>\n",
       "      <th>50%</th>\n",
       "      <td>1.425700e+04</td>\n",
       "      <td>65.000000</td>\n",
       "      <td>196800.000000</td>\n",
       "      <td>5.500000</td>\n",
       "      <td>28.000000</td>\n",
       "      <td>15.000000</td>\n",
       "      <td>77.500000</td>\n",
       "      <td>8.250000</td>\n",
       "      <td>3.700000</td>\n",
       "      <td>4.500000</td>\n",
       "    </tr>\n",
       "    <tr>\n",
       "      <th>75%</th>\n",
       "      <td>3.375900e+04</td>\n",
       "      <td>80.000000</td>\n",
       "      <td>279275.000000</td>\n",
       "      <td>5.800000</td>\n",
       "      <td>38.250000</td>\n",
       "      <td>22.000000</td>\n",
       "      <td>85.250000</td>\n",
       "      <td>10.075000</td>\n",
       "      <td>5.100000</td>\n",
       "      <td>6.900000</td>\n",
       "    </tr>\n",
       "    <tr>\n",
       "      <th>max</th>\n",
       "      <td>1.574421e+06</td>\n",
       "      <td>105.000000</td>\n",
       "      <td>441600.000000</td>\n",
       "      <td>8.200000</td>\n",
       "      <td>103.000000</td>\n",
       "      <td>55.000000</td>\n",
       "      <td>94.000000</td>\n",
       "      <td>16.400000</td>\n",
       "      <td>11.500000</td>\n",
       "      <td>12.800000</td>\n",
       "    </tr>\n",
       "  </tbody>\n",
       "</table>\n",
       "</div>"
      ],
      "text/plain": [
       "         population  web_cost ($)  median_home_price ($)  \\\n",
       "count  4.900000e+01     50.000000              50.000000   \n",
       "mean   8.923965e+04     68.560000          212382.000000   \n",
       "std    3.110387e+05     11.505385          111426.677072   \n",
       "min    9.500000e+02     50.000000           51200.000000   \n",
       "25%    5.275000e+03     60.000000          112425.000000   \n",
       "50%    1.425700e+04     65.000000          196800.000000   \n",
       "75%    3.375900e+04     80.000000          279275.000000   \n",
       "max    1.574421e+06    105.000000          441600.000000   \n",
       "\n",
       "       median_home_size (rooms)  coffee_shops_100k  parks_100k  \\\n",
       "count                 47.000000          48.000000   48.000000   \n",
       "mean                   5.676596          33.895833   18.562500   \n",
       "std                    0.826520          21.279537   10.314019   \n",
       "min                    3.800000          13.000000    2.000000   \n",
       "25%                    5.200000          20.500000   12.000000   \n",
       "50%                    5.500000          28.000000   15.000000   \n",
       "75%                    5.800000          38.250000   22.000000   \n",
       "max                    8.200000         103.000000   55.000000   \n",
       "\n",
       "       non_chain_restaurants (%)  arts_edu_workers (%)  health_workers (%)  \\\n",
       "count                  48.000000             50.000000           49.000000   \n",
       "mean                   79.125000              8.264000            3.908163   \n",
       "std                     7.689797              3.119116            2.169470   \n",
       "min                    66.000000              1.500000            0.200000   \n",
       "25%                    73.750000              6.225000            2.200000   \n",
       "50%                    77.500000              8.250000            3.700000   \n",
       "75%                    85.250000             10.075000            5.100000   \n",
       "max                    94.000000             16.400000           11.500000   \n",
       "\n",
       "         wfh (%)  \n",
       "count  49.000000  \n",
       "mean    5.240816  \n",
       "std     2.618438  \n",
       "min     1.500000  \n",
       "25%     3.400000  \n",
       "50%     4.500000  \n",
       "75%     6.900000  \n",
       "max    12.800000  "
      ]
     },
     "execution_count": 50,
     "metadata": {},
     "output_type": "execute_result"
    }
   ],
   "source": [
    "df.describe()"
   ]
  },
  {
   "cell_type": "code",
   "execution_count": 51,
   "metadata": {},
   "outputs": [],
   "source": [
    "import matplotlib.pyplot as plt\n",
    "import seaborn as sns"
   ]
  },
  {
   "cell_type": "code",
   "execution_count": 52,
   "metadata": {},
   "outputs": [
    {
     "data": {
      "text/plain": [
       "<AxesSubplot:xlabel='median_home_size (rooms)', ylabel='median_home_price ($)'>"
      ]
     },
     "execution_count": 52,
     "metadata": {},
     "output_type": "execute_result"
    },
    {
     "data": {
      "image/png": "[encoded data removed]",
      "text/plain": [
       "<Figure size 432x288 with 1 Axes>"
      ]
     },
     "metadata": {
      "needs_background": "light"
     },
     "output_type": "display_data"
    }
   ],
   "source": [
    "sns.scatterplot(x='median_home_size (rooms)',y='median_home_price ($)',data=df)"
   ]
  },
  {
   "cell_type": "code",
   "execution_count": 53,
   "metadata": {},
   "outputs": [
    {
     "data": {
      "text/plain": [
       "<seaborn.axisgrid.FacetGrid at 0x7fba5d042d30>"
      ]
     },
     "execution_count": 53,
     "metadata": {},
     "output_type": "execute_result"
    },
    {
     "data": {
      "image/png": "[encoded data removed]",
      "text/plain": [
       "<Figure size 360x360 with 1 Axes>"
      ]
     },
     "metadata": {
      "needs_background": "light"
     },
     "output_type": "display_data"
    }
   ],
   "source": [
    "sns.lmplot(x='coffee_shops_100k',y='non_chain_restaurants (%)',data=df)"
   ]
  },
  {
   "cell_type": "code",
   "execution_count": 54,
   "metadata": {},
   "outputs": [],
   "source": [
    "import helper_functions as h"
   ]
  },
  {
   "cell_type": "code",
   "execution_count": 55,
   "metadata": {},
   "outputs": [
    {
     "data": {
      "image/png": "[encoded data removed]",
      "text/plain": [
       "<Figure size 792x648 with 2 Axes>"
      ]
     },
     "metadata": {
      "needs_background": "light"
     },
     "output_type": "display_data"
    }
   ],
   "source": [
    "h.helpers.plot_corr_triangle(df.corr())"
   ]
  },
  {
   "cell_type": "code",
   "execution_count": null,
   "metadata": {},
   "outputs": [],
   "source": []
  }
 ],
 "metadata": {
  "kernelspec": {
   "display_name": "Data Env",
   "language": "python",
   "name": "data_env"
  },
  "language_info": {
   "codemirror_mode": {
    "name": "ipython",
    "version": 3
   },
   "file_extension": ".py",
   "mimetype": "text/x-python",
   "name": "python",
   "nbconvert_exporter": "python",
   "pygments_lexer": "ipython3",
   "version": "3.6.12"
  }
 },
 "nbformat": 4,
 "nbformat_minor": 4
}
